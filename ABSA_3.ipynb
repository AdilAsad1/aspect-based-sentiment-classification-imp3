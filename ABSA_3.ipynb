{
  "nbformat": 4,
  "nbformat_minor": 0,
  "metadata": {
    "colab": {
      "provenance": []
    },
    "kernelspec": {
      "name": "python3",
      "display_name": "Python 3"
    },
    "language_info": {
      "name": "python"
    }
  },
  "cells": [
    {
      "cell_type": "code",
      "execution_count": 1,
      "metadata": {
        "colab": {
          "base_uri": "https://localhost:8080/"
        },
        "id": "G7GLDR6oz28V",
        "outputId": "30b09a80-6c86-473b-9467-db399384dc6e"
      },
      "outputs": [
        {
          "output_type": "stream",
          "name": "stderr",
          "text": [
            "[nltk_data] Downloading package punkt to /root/nltk_data...\n",
            "[nltk_data]   Unzipping tokenizers/punkt.zip.\n",
            "[nltk_data] Downloading package averaged_perceptron_tagger to\n",
            "[nltk_data]     /root/nltk_data...\n",
            "[nltk_data]   Unzipping taggers/averaged_perceptron_tagger.zip.\n",
            "[nltk_data] Downloading package vader_lexicon to /root/nltk_data...\n"
          ]
        }
      ],
      "source": [
        "import nltk\n",
        "nltk.download('punkt')\n",
        "nltk.download('averaged_perceptron_tagger')\n",
        "nltk.download('vader_lexicon')\n",
        "\n",
        "from nltk.sentiment.vader import SentimentIntensityAnalyzer\n",
        "from nltk.tokenize import word_tokenize, sent_tokenize"
      ]
    },
    {
      "cell_type": "code",
      "source": [
        "# Define the text to analyze\n",
        "text = \"I recently purchased a new laptop and the battery life is great, but the keyboard is not very comfortable to type on.\"\n",
        "\n",
        "# Define the aspects to extract\n",
        "aspects = [\"battery life\", \"keyboard\"]"
      ],
      "metadata": {
        "id": "BJnKO0tfz48n"
      },
      "execution_count": 2,
      "outputs": []
    },
    {
      "cell_type": "code",
      "source": [
        "# Step 1: Aspect sentiment extraction\n",
        "sentiment_analyzer = SentimentIntensityAnalyzer()\n",
        "sentences = sent_tokenize(text)\n",
        "aspect_sentiments = {}\n",
        "\n",
        "for aspect in aspects:\n",
        "  aspect_sentiments[aspect] = []\n",
        "  for sentence in sentences:\n",
        "    if aspect in sentence:\n",
        "      sentiment = sentiment_analyzer.polarity_scores(sentence)['compound']\n",
        "      aspect_sentiments[aspect].append(sentiment)"
      ],
      "metadata": {
        "id": "d2qI12sQz5J5"
      },
      "execution_count": 3,
      "outputs": []
    },
    {
      "cell_type": "code",
      "source": [
        "# Step 2: Aspect ranking and selection\n",
        "aspect_scores = {}\n",
        "for aspect, sentiments in aspect_sentiments.items():\n",
        "  if len(sentiments) > 0:\n",
        "    aspect_scores[aspect] = sum(sentiments) / len(sentiments)\n",
        "\n",
        "sorted_aspects = sorted(aspect_scores.items(), key=lambda x: x[1], reverse=True)\n",
        "top_aspect = sorted_aspects[0][0]"
      ],
      "metadata": {
        "id": "idU8qaAcz5aE"
      },
      "execution_count": 4,
      "outputs": []
    },
    {
      "cell_type": "code",
      "source": [
        "# Step 3: Aspect classification\n",
        "print(aspect_scores[top_aspect])\n",
        "\n",
        "if aspect_scores[top_aspect] > 0:\n",
        "  print(f\"The {top_aspect} has a positive sentiment.\")\n",
        "else:\n",
        "  print(f\"The {top_aspect} has a negative sentiment.\")\n"
      ],
      "metadata": {
        "colab": {
          "base_uri": "https://localhost:8080/"
        },
        "id": "Xfs_2izkz5lx",
        "outputId": "e1beab22-3b5d-4d65-f7ee-d9caac528c96"
      },
      "execution_count": 7,
      "outputs": [
        {
          "output_type": "stream",
          "name": "stdout",
          "text": [
            "-0.3244\n",
            "The battery life has a negative sentiment.\n"
          ]
        }
      ]
    }
  ]
}